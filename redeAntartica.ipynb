{
 "cells": [
  {
   "cell_type": "code",
   "execution_count": null,
   "metadata": {},
   "outputs": [],
   "source": [
    "#Parâmetros para o fitoplanton\n",
    "float fitoplanton = 100;\n",
    "float fotossintese = 2.0;\n",
    "float temp_agua_aumento = 0.03;\n",
    "\n",
    "#Valores iniciais dos animais\n",
    "float camarao = 15.0;\n",
    "float pinguim = 15.0;\n",
    "float peixe = 15.0;\n",
    "float foca = 15.0;\n",
    "\n",
    "#Taxa de infecção da foca por poluição\n",
    "float poluicao = 1.9;\n",
    "    \n",
    "float v[14]; #Definindo vetor que armazena os parâmetros\n",
    "float deltaT = 0.01; #Variação de deltaT\n",
    "int i;\n",
    "float tempo;\n",
    "float dFitoplanton, dCamarao, dPinguim, dfoca, dPeixe;\n",
    "float K = 100.0; #Capacidade de suporte ao meio\n",
    "    \n",
    "v[0] = 0.02;\n",
    "v[1] = 0.01;\n",
    "v[2] = 0.094;\n",
    "v[3] = 0.01;\n",
    "v[4] = 0.01;\n",
    "v[5] = 0.09;\n",
    "v[6] = 0.01;\n",
    "v[7] = 0.01;\n",
    "v[8] = 0.04;\n",
    "v[9] = 0.06;\n",
    "v[10] = 0.01;\n",
    "v[11] = 0.02;\n",
    "v[12] = 0.03;\n",
    "v[13] = 0.009;\n",
    "\n",
    "fprintf(analise, \"Tempo Fitoplanton Camarao Peixe Pinguim Foca \\n\", tempo, fitoplanton, camarao, peixe, pinguim, foca);\n",
    "fprintf(analise, \"%.2f  %f   %f  %f  %f  %f\\n\", tempo, fitoplanton, camarao,peixe , pinguim, foca);\n",
    "\n",
    "\n",
    "for tempo in range(0,300,deltaT):\n",
    "        #Taxa de variação de cada em espécie em função das equações de Lotka-Volterra\n",
    "    dFitoplanton = fitoplanton * (fotossintese - fotossintese*fitoplanton/K - v[0]*camarao - v[1]*peixe - temp_agua_aumento) * deltaT;\n",
    "    dCamarao = camarao * (v[2]*fitoplanton - v[3]*pinguim - v[4]*foca) * deltaT;\n",
    "    dPeixe = peixe * (v[5]*fitoplanton - v[6]*pinguim - v[7]*foca) * deltaT;\n",
    "    dPinguim = pinguim * (v[8]*camarao + v[9]*peixe - v[10]*foca) * deltaT;\n",
    "    dFoca = foca * (v[11]*camarao + v[12]*peixe + v[13]*pinguim - poluicao) * deltaT;\n",
    "    \n",
    "    espinossauro += dEspinossauro;\n",
    "    camarao += dCamarao;\n",
    "    pinguim += dPinguim;\n",
    "    foca += dFoca;\n",
    "    fitoplanto += dFitoplanton;\n",
    "    peixe += dPeixe;\n",
    "\n",
    "    fprintf(analise, \"%.2f  %f   %f  %f  %f  %f  %f\\n\", tempo, fitoplanton, camarao, peixe, pinguim, foca);"
   ]
  }
 ],
 "metadata": {
  "kernelspec": {
   "display_name": "Python 3",
   "language": "python",
   "name": "python3"
  },
  "language_info": {
   "codemirror_mode": {
    "name": "ipython",
    "version": 3
   },
   "file_extension": ".py",
   "mimetype": "text/x-python",
   "name": "python",
   "nbconvert_exporter": "python",
   "pygments_lexer": "ipython3",
   "version": "3.6.6"
  }
 },
 "nbformat": 4,
 "nbformat_minor": 2
}
